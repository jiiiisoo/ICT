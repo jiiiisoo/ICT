{
  "nbformat": 4,
  "nbformat_minor": 0,
  "metadata": {
    "colab": {
      "name": "final_project_code.ipynb",
      "provenance": [],
      "mount_file_id": "1GIreXgkCa4hue69ANig_mM5_Dc2iMEU9",
      "authorship_tag": "ABX9TyOqqemGiqlaR8e4VfRDmIlo",
      "include_colab_link": true
    },
    "kernelspec": {
      "name": "python3",
      "display_name": "Python 3"
    },
    "language_info": {
      "name": "python"
    },
    "accelerator": "GPU"
  },
  "cells": [
    {
      "cell_type": "markdown",
      "metadata": {
        "id": "view-in-github",
        "colab_type": "text"
      },
      "source": [
        "<a href=\"https://colab.research.google.com/github/jiiiisoo/ICT/blob/main/helmet_detection/helmet_detection_code.ipynb\" target=\"_parent\"><img src=\"https://colab.research.google.com/assets/colab-badge.svg\" alt=\"Open In Colab\"/></a>"
      ]
    },
    {
      "cell_type": "code",
      "execution_count": null,
      "metadata": {
        "id": "DL3M3HR2QYeX"
      },
      "outputs": [],
      "source": [
        "import tensorflow as tf\n",
        "from tensorflow.keras import Sequential,models,layers\n",
        "from tensorflow.keras.layers import Conv2D,MaxPool2D,Dropout,Flatten,Dense,BatchNormalization\n",
        "from tensorflow.keras.preprocessing.image import ImageDataGenerator\n",
        "from tensorflow.keras.callbacks import EarlyStopping\n",
        "\n",
        "import numpy as np\n",
        "import pandas as pd\n",
        "import matplotlib.pyplot as plt\n",
        "\n",
        "import os\n",
        "import xml.etree.ElementTree as et\n",
        "from sklearn.model_selection import train_test_split\n",
        "import random\n",
        "\n",
        "import cv2\n",
        "import imutils\n",
        "import matplotlib.pyplot as plt"
      ]
    },
    {
      "cell_type": "code",
      "source": [
        "#unzip image data file\n",
        "\n",
        "!unzip -uq \"/content/drive/MyDrive/deeplearning/final_project/archive.zip\" -d \"/content/drive/MyDrive/deeplearning/final_project\""
      ],
      "metadata": {
        "id": "TJsbcyHxRJrY"
      },
      "execution_count": null,
      "outputs": []
    },
    {
      "cell_type": "code",
      "source": [
        "X=[]\n",
        "Y=[]\n",
        "\n",
        "#image 불러오기\n",
        "image_list = os.listdir(\"/content/drive/MyDrive/deeplearning/final_project/images\")\n",
        "label_list = os.listdir(\"/content/drive/MyDrive/deeplearning/final_project/annotations\")\n",
        "\n",
        "print(len(image_list), len(label_list))"
      ],
      "metadata": {
        "colab": {
          "base_uri": "https://localhost:8080/"
        },
        "id": "N7Na4okDUjCp",
        "outputId": "f44f9bd7-5f26-4cb1-ec5f-e620040ab6e4"
      },
      "execution_count": null,
      "outputs": [
        {
          "output_type": "stream",
          "name": "stdout",
          "text": [
            "764 764\n"
          ]
        }
      ]
    },
    {
      "cell_type": "code",
      "source": [
        "#label: With Helmet=1, Without Helmet=0\n",
        "width=128\n",
        "height=128\n",
        "\n",
        "image_set=[]\n",
        "for img in image_list:\n",
        "    label=[]\n",
        "    classnum = []\n",
        "    xtree = et.parse('/content/drive/MyDrive/deeplearning/final_project/annotations/' + img.split('.')[0] + '.xml')\n",
        "    #size = xtree.find('size')\n",
        "    cv2_image = cv2.imread(os.path.join('/content/drive/MyDrive/deeplearning/final_project/images', img),cv2.IMREAD_COLOR)\n",
        "    resized = cv2.resize(cv2_image, (width,height)) #보통 이미지 축소에는 INTER_AREA 사용\n",
        "\n",
        "    for e in xtree.findall('object'):\n",
        "      name = e.find('name').text\n",
        "      label.append({'name': name,})\n",
        "      if name == 'Without Helmet':\n",
        "        label_num=0\n",
        "      elif name == 'With Helmet':\n",
        "        label_num=1\n",
        "      #name이 둘 다 아닌 경우가 있을 수 있으므로\n",
        "      else:\n",
        "        label_num=2\n",
        "    image_set.append((resized, label_num))\n",
        "    \n",
        "print(len(image_set))"
      ],
      "metadata": {
        "colab": {
          "base_uri": "https://localhost:8080/"
        },
        "id": "3a3Jlu6eZaoc",
        "outputId": "cd570501-a542-4c1e-8b21-6826a9c6f6a0"
      },
      "execution_count": null,
      "outputs": [
        {
          "output_type": "stream",
          "name": "stdout",
          "text": [
            "764\n"
          ]
        }
      ]
    },
    {
      "cell_type": "code",
      "source": [
        "#Split data into train, test dataset\n",
        "\n",
        "random.shuffle(image_set)\n",
        "\n",
        "train_set, test_set = train_test_split(image_set, test_size=0.2, random_state=1)\n",
        "\n",
        "print(len(train_set), len(test_set), len(train_label))"
      ],
      "metadata": {
        "id": "-v0uvR8wddVn",
        "colab": {
          "base_uri": "https://localhost:8080/"
        },
        "outputId": "3503cf98-db5f-438e-864a-d66fcb5c67c1"
      },
      "execution_count": null,
      "outputs": [
        {
          "output_type": "stream",
          "name": "stdout",
          "text": [
            "611 153 611\n"
          ]
        }
      ]
    },
    {
      "cell_type": "code",
      "source": [
        "# image, label 분리\n",
        "train_image=[]\n",
        "train_label=[]\n",
        "test_image=[]\n",
        "test_label=[]\n",
        "\n",
        "for image, label in train_set:\n",
        "  train_image.append(image)\n",
        "  train_label.append(label)\n",
        "\n",
        "for image, label in test_set:\n",
        "  test_image.append(image)\n",
        "  test_label.append(label)\n",
        "\n",
        "print(len(train_image))\n",
        "#차원 조정 ->>>>>>>>>>>>>>>>>>>>>>>>>>>>>>>>>>>>>>>왱?!\n",
        "train_image=np.array(train_image)#.reshape(-1,width,height,1)\n",
        "print(train_image.shape)\n",
        "test_image=np.array(test_image)\n",
        "print(train_image.shape)\n",
        "\n",
        "train_label=np.array(train_label).reshape((-1,1))\n",
        "test_label=np.array(test_label).reshape((-1,1))\n",
        "\n",
        "# Normalize pixel values to be between 0 and 1\n",
        "train_image=train_image/255.0\n",
        "\n",
        "#image 증강 통해 overfitting 방지하고자 imagedatagenerator로 이미지 변형\n",
        "\n"
      ],
      "metadata": {
        "id": "w3Ryvl-NRmfT",
        "colab": {
          "base_uri": "https://localhost:8080/"
        },
        "outputId": "f71297e4-bd0d-4fc5-f487-9987fc0b571a"
      },
      "execution_count": null,
      "outputs": [
        {
          "output_type": "stream",
          "name": "stdout",
          "text": [
            "611\n",
            "(611, 128, 128, 3)\n",
            "(611, 128, 128, 3)\n"
          ]
        }
      ]
    },
    {
      "cell_type": "code",
      "source": [
        "\n",
        "datagen = ImageDataGenerator(\n",
        "    rescale=1/255.0,\n",
        "    rotation_range=20,\n",
        "    width_shift_range=0.2,\n",
        "    zoom_range=0.4,\n",
        "    horizontal_flip=True)"
      ],
      "metadata": {
        "id": "v0ij9Y5XFjMs"
      },
      "execution_count": null,
      "outputs": []
    },
    {
      "cell_type": "code",
      "source": [
        "len(train_image)"
      ],
      "metadata": {
        "colab": {
          "base_uri": "https://localhost:8080/"
        },
        "id": "IcHWcmHbE19m",
        "outputId": "24a9beb2-68f6-4821-be8f-a3f7c29cd459"
      },
      "execution_count": null,
      "outputs": [
        {
          "output_type": "execute_result",
          "data": {
            "text/plain": [
              "611"
            ]
          },
          "metadata": {},
          "execution_count": 20
        }
      ]
    },
    {
      "cell_type": "code",
      "source": [
        "train_datagen = datagen.flow(train_image, train_label, batch_size=64)\n",
        "test_datagen = datagen.flow(test_image, test_label, batch_size=64)"
      ],
      "metadata": {
        "id": "dpEuDRF_W6mf"
      },
      "execution_count": null,
      "outputs": []
    },
    {
      "cell_type": "code",
      "source": [
        "# model 구축\n",
        "\n",
        "model=models.Sequential()\n",
        "model.add(layers.Conv2D(64,(3,3),activation='relu',input_shape=(128,128,3)))\n",
        "model.add(layers.MaxPool2D(2,2))\n",
        "model.add(layers.Conv2D(32,(3,3),activation='relu'))\n",
        "model.add(layers.MaxPool2D(2,2))\n",
        "#model.add(layers.Dropout(0.2))\n",
        "model.add(layers.Conv2D(32,(3,3),activation='relu'))\n",
        "model.add(layers.MaxPool2D(2,2))\n",
        "model.add(layers.Conv2D(32,(3,3),activation='relu'))\n",
        "model.add(layers.Flatten())\n",
        "model.add(layers.Dense(1,activation='sigmoid'))\n",
        "\n",
        "model.summary()"
      ],
      "metadata": {
        "id": "HRsDmuMfkY6U",
        "colab": {
          "base_uri": "https://localhost:8080/"
        },
        "outputId": "f1ed5775-36c6-4023-9528-e9a77b728ccf"
      },
      "execution_count": null,
      "outputs": [
        {
          "output_type": "stream",
          "name": "stdout",
          "text": [
            "Model: \"sequential_2\"\n",
            "_________________________________________________________________\n",
            " Layer (type)                Output Shape              Param #   \n",
            "=================================================================\n",
            " conv2d_7 (Conv2D)           (None, 126, 126, 64)      1792      \n",
            "                                                                 \n",
            " max_pooling2d_5 (MaxPooling  (None, 63, 63, 64)       0         \n",
            " 2D)                                                             \n",
            "                                                                 \n",
            " conv2d_8 (Conv2D)           (None, 61, 61, 32)        18464     \n",
            "                                                                 \n",
            " max_pooling2d_6 (MaxPooling  (None, 30, 30, 32)       0         \n",
            " 2D)                                                             \n",
            "                                                                 \n",
            " conv2d_9 (Conv2D)           (None, 28, 28, 32)        9248      \n",
            "                                                                 \n",
            " max_pooling2d_7 (MaxPooling  (None, 14, 14, 32)       0         \n",
            " 2D)                                                             \n",
            "                                                                 \n",
            " flatten_2 (Flatten)         (None, 6272)              0         \n",
            "                                                                 \n",
            " dense_2 (Dense)             (None, 1)                 6273      \n",
            "                                                                 \n",
            "=================================================================\n",
            "Total params: 35,777\n",
            "Trainable params: 35,777\n",
            "Non-trainable params: 0\n",
            "_________________________________________________________________\n"
          ]
        }
      ]
    },
    {
      "cell_type": "code",
      "source": [
        "model = Sequential()\n",
        "\n",
        "model.add(Conv2D(32, kernel_size=(3, 3), activation='relu', input_shape=train_image.shape[1:], data_format='channels_last',))\n",
        "model.add(BatchNormalization())\n",
        "model.add(MaxPool2D(pool_size=(2, 2), strides=(2, 2)))\n",
        "model.add(Dropout(0.5))\n",
        "\n",
        "model.add(Conv2D(64, kernel_size=(3, 3), activation='relu', padding='same'))\n",
        "model.add(BatchNormalization())\n",
        "model.add(MaxPool2D(pool_size=(2, 2), strides=(2, 2)))\n",
        "model.add(Dropout(0.5))\n",
        "\n",
        "model.add(Conv2D(128, kernel_size=(3, 3), activation='relu', padding='same'))\n",
        "model.add(BatchNormalization())\n",
        "model.add(MaxPool2D(pool_size=(2, 2), strides=(2, 2)))\n",
        "model.add(Dropout(0.5))\n",
        "\n",
        "model.add(Conv2D(256, kernel_size=(3, 3), activation='relu', padding='same'))\n",
        "model.add(BatchNormalization())\n",
        "model.add(MaxPool2D(pool_size=(2, 2), strides=(2, 2)))\n",
        "model.add(Dropout(0.5))\n",
        "\n",
        "model.add(Flatten())\n",
        "\n",
        "model.add(Dense(256, activation='relu'))\n",
        "model.add(Dropout(0.4))\n",
        "model.add(Dense(128, activation='relu'))\n",
        "model.add(Dropout(0.4))\n",
        "model.add(Dense(64, activation='relu'))\n",
        "model.add(Dropout(0.5))\n",
        "\n",
        "model.add(Dense(1, activation='sigmoid'))"
      ],
      "metadata": {
        "id": "clPHmLx5VhmB"
      },
      "execution_count": null,
      "outputs": []
    },
    {
      "cell_type": "code",
      "source": [
        "# model fit\n",
        "model.compile(loss=tf.keras.losses.BinaryCrossentropy(from_logits=True), optimizer = 'rmsprop', metrics=['accuracy'])\n",
        "\n",
        "# Fitting the neural network to the training set\n",
        "history = model.fit(train_datagen, epochs=10, validation_data=(test_datagen))"
      ],
      "metadata": {
        "colab": {
          "base_uri": "https://localhost:8080/"
        },
        "id": "DR_jbZfCKZe1",
        "outputId": "b5024e9f-33b8-4016-be5e-a80e5b7bb48b"
      },
      "execution_count": null,
      "outputs": [
        {
          "output_type": "stream",
          "name": "stdout",
          "text": [
            "Epoch 1/10\n"
          ]
        },
        {
          "output_type": "stream",
          "name": "stderr",
          "text": [
            "/usr/local/lib/python3.7/dist-packages/tensorflow/python/util/dispatch.py:1082: UserWarning: \"`binary_crossentropy` received `from_logits=True`, but the `output` argument was produced by a sigmoid or softmax activation and thus does not represent logits. Was this intended?\"\n",
            "  return dispatch_target(*args, **kwargs)\n"
          ]
        },
        {
          "output_type": "stream",
          "name": "stdout",
          "text": [
            "10/10 [==============================] - 7s 488ms/step - loss: 3.0084 - accuracy: 0.5663 - val_loss: 0.6739 - val_accuracy: 0.6275\n",
            "Epoch 2/10\n",
            "10/10 [==============================] - 3s 279ms/step - loss: 1.4896 - accuracy: 0.5745 - val_loss: 0.6738 - val_accuracy: 0.6209\n",
            "Epoch 3/10\n",
            "10/10 [==============================] - 3s 287ms/step - loss: 1.1327 - accuracy: 0.5859 - val_loss: 0.7181 - val_accuracy: 0.6209\n",
            "Epoch 4/10\n",
            "10/10 [==============================] - 3s 288ms/step - loss: 1.0431 - accuracy: 0.5581 - val_loss: 0.7830 - val_accuracy: 0.6209\n",
            "Epoch 5/10\n",
            "10/10 [==============================] - 3s 299ms/step - loss: 0.8451 - accuracy: 0.6187 - val_loss: 0.8451 - val_accuracy: 0.6209\n",
            "Epoch 6/10\n",
            "10/10 [==============================] - 3s 294ms/step - loss: 0.8675 - accuracy: 0.5925 - val_loss: 0.7420 - val_accuracy: 0.6209\n",
            "Epoch 7/10\n",
            "10/10 [==============================] - 3s 294ms/step - loss: 0.8082 - accuracy: 0.5859 - val_loss: 0.7026 - val_accuracy: 0.6209\n",
            "Epoch 8/10\n",
            "10/10 [==============================] - 3s 281ms/step - loss: 0.7994 - accuracy: 0.6285 - val_loss: 0.8136 - val_accuracy: 0.6209\n",
            "Epoch 9/10\n",
            "10/10 [==============================] - 3s 286ms/step - loss: 0.7584 - accuracy: 0.6137 - val_loss: 0.9918 - val_accuracy: 0.6209\n",
            "Epoch 10/10\n",
            "10/10 [==============================] - 3s 286ms/step - loss: 0.7713 - accuracy: 0.6301 - val_loss: 0.8991 - val_accuracy: 0.6209\n"
          ]
        }
      ]
    },
    {
      "cell_type": "markdown",
      "source": [
        "reference  \n",
        "https://hwiyong.tistory.com/48  \n",
        "https://keras.io/ko/preprocessing/image/  \n",
        "https://yunwoong.tistory.com/127"
      ],
      "metadata": {
        "id": "9UcX-enulnpy"
      }
    },
    {
      "cell_type": "code",
      "source": [
        ""
      ],
      "metadata": {
        "id": "84WxxWTdKYeM"
      },
      "execution_count": null,
      "outputs": []
    }
  ]
}