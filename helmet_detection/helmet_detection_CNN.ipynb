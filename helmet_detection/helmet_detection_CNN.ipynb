{
  "nbformat": 4,
  "nbformat_minor": 0,
  "metadata": {
    "colab": {
      "name": "final_project_code.ipynb",
      "provenance": [],
      "mount_file_id": "1GIreXgkCa4hue69ANig_mM5_Dc2iMEU9",
      "authorship_tag": "ABX9TyPE6oEJhP1ErwExV0bVYaf3",
      "include_colab_link": true
    },
    "kernelspec": {
      "name": "python3",
      "display_name": "Python 3"
    },
    "language_info": {
      "name": "python"
    }
  },
  "cells": [
    {
      "cell_type": "markdown",
      "metadata": {
        "id": "view-in-github",
        "colab_type": "text"
      },
      "source": [
        "<a href=\"https://colab.research.google.com/github/jiiiisoo/ICT/blob/main/helmet_detection/helmet_detection_CNN.ipynb\" target=\"_parent\"><img src=\"https://colab.research.google.com/assets/colab-badge.svg\" alt=\"Open In Colab\"/></a>"
      ]
    },
    {
      "cell_type": "code",
      "execution_count": 33,
      "metadata": {
        "id": "DL3M3HR2QYeX"
      },
      "outputs": [],
      "source": [
        "import tensorflow as tf\n",
        "from tensorflow.keras import Sequential,models,layers\n",
        "from tensorflow.keras.layers import Conv2D,MaxPool2D,Dropout,Flatten,Dense,BatchNormalization\n",
        "from tensorflow.keras.preprocessing.image import ImageDataGenerator\n",
        "from tensorflow.keras.callbacks import EarlyStopping\n",
        "\n",
        "import numpy as np\n",
        "import pandas as pd\n",
        "import matplotlib.pyplot as plt\n",
        "\n",
        "import os\n",
        "import xml.etree.ElementTree as et\n",
        "from sklearn.model_selection import train_test_split\n",
        "\n",
        "import cv2"
      ]
    },
    {
      "cell_type": "code",
      "source": [
        "#unzip image data file\n",
        "\n",
        "!unzip -uq \"/content/drive/MyDrive/deeplearning/final_project/archive.zip\" -d \"/content/drive/MyDrive/deeplearning/final_project\""
      ],
      "metadata": {
        "id": "TJsbcyHxRJrY"
      },
      "execution_count": 4,
      "outputs": []
    },
    {
      "cell_type": "code",
      "source": [
        "width = 128\n",
        "height = 128\n",
        "datagen = ImageDataGenerator(rescale=1/255.0, validation_split=0.2)"
      ],
      "metadata": {
        "id": "w3Ryvl-NRmfT"
      },
      "execution_count": 3,
      "outputs": []
    },
    {
      "cell_type": "code",
      "source": [
        "X=[]\n",
        "Y=[]\n",
        "\n",
        "#image 불러오기\n",
        "image_list = os.listdir(\"/content/drive/MyDrive/deeplearning/final_project/images\")\n",
        "label_list = os.listdir(\"/content/drive/MyDrive/deeplearning/final_project/annotations\")\n",
        "\n",
        "print(len(image_list), len(label_list))"
      ],
      "metadata": {
        "colab": {
          "base_uri": "https://localhost:8080/"
        },
        "id": "N7Na4okDUjCp",
        "outputId": "4b456aa0-3054-432d-c58c-a0f4bf1c3130"
      },
      "execution_count": 39,
      "outputs": [
        {
          "output_type": "stream",
          "name": "stdout",
          "text": [
            "764 764\n"
          ]
        }
      ]
    },
    {
      "cell_type": "code",
      "source": [
        "#label: With Helmet=1, Without Helmet=0\n",
        "\n",
        "labels=[]\n",
        "for i in range(len(label_list)+2): #50,54 index 빠져있으므로 2번 더 돌아야함\n",
        "    label=[]\n",
        "    classnum = []\n",
        "    #50, 54 index 빠져있으므로\n",
        "    if i==50 or i==54:\n",
        "      continue\n",
        "    xtree = et.parse('/content/drive/MyDrive/deeplearning/final_project/annotations/BikesHelmets' + str(i) + '.xml')\n",
        "    #size = xtree.find('size')\n",
        "    for e in xtree.findall('object'):\n",
        "      name = e.find('name').text\n",
        "      label.append({'name': name,})\n",
        "      if name == 'Without Helmet':\n",
        "        label_num=0\n",
        "      elif name == 'With Helmet':\n",
        "        label_num=1\n",
        "      #name이 둘 다 아닌 경우가 있을 수 있으므로\n",
        "      else:\n",
        "        label_num=2\n",
        "    labels.append(label_num)\n",
        "    \n",
        "print(len(labels))"
      ],
      "metadata": {
        "colab": {
          "base_uri": "https://localhost:8080/"
        },
        "id": "3a3Jlu6eZaoc",
        "outputId": "e4c80991-21ea-4e1c-e692-a7b72be2e21f"
      },
      "execution_count": 40,
      "outputs": [
        {
          "output_type": "stream",
          "name": "stdout",
          "text": [
            "764\n"
          ]
        }
      ]
    },
    {
      "cell_type": "code",
      "source": [
        "#Split data into train, test dataset\n",
        "\n",
        "train_image, train_label, test_image, test_label = train_test_split(image_list, labels, test_size=0.2, random_state=1)"
      ],
      "metadata": {
        "id": "-v0uvR8wddVn"
      },
      "execution_count": 41,
      "outputs": []
    },
    {
      "cell_type": "code",
      "source": [
        ""
      ],
      "metadata": {
        "id": "HRsDmuMfkY6U"
      },
      "execution_count": null,
      "outputs": []
    }
  ]
}